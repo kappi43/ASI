{
  "cells": [
    {
      "attachments": {},
      "cell_type": "markdown",
      "metadata": {
        "trusted": true
      },
      "source": [
        "Import neccesary libraries"
      ]
    },
    {
      "cell_type": "code",
      "execution_count": 2,
      "metadata": {
        "trusted": true
      },
      "outputs": [],
      "source": [
        "from sklearn.ensemble import RandomForestClassifier\n",
        "import numpy as np\n",
        "import pandas as pd\n",
        "import sklearn as sk\n",
        "from sklearn.model_selection import train_test_split\n",
        "from sklearn.metrics import roc_auc_score\n"
      ]
    },
    {
      "attachments": {},
      "cell_type": "markdown",
      "metadata": {
        "trusted": true
      },
      "source": [
        "Read in the data"
      ]
    },
    {
      "cell_type": "code",
      "execution_count": null,
      "metadata": {
        "trusted": true
      },
      "outputs": [],
      "source": [
        "df = pd.read_csv('data/HotelReservations.csv')\n",
        "df.head()"
      ]
    },
    {
      "attachments": {},
      "cell_type": "markdown",
      "metadata": {
        "trusted": true
      },
      "source": [
        "Some basic data prep"
      ]
    },
    {
      "cell_type": "code",
      "execution_count": null,
      "metadata": {
        "trusted": true
      },
      "outputs": [],
      "source": [
        "df.drop('Booking_ID', axis=1, inplace=True)\n",
        "obj_df = df.select_dtypes(include=['object']).copy()\n",
        "for column in obj_df.keys():\n",
        "    df[column] = df[column].astype('category')\n",
        "    df[column + '_cat'] = df[column].cat.codes\n",
        "    df.drop(column, axis=1, inplace=True)\n",
        "df=df.fillna(value = df.mean(numeric_only=True))\n",
        "df"
      ]
    },
    {
      "attachments": {},
      "cell_type": "markdown",
      "metadata": {
        "trusted": true
      },
      "source": [
        "Split and train"
      ]
    },
    {
      "cell_type": "code",
      "execution_count": null,
      "metadata": {
        "trusted": true
      },
      "outputs": [],
      "source": [
        "y = df['booking_status_cat']\n",
        "X = df.loc[:, ~df.columns.isin(['booking_status_cat'])]\n",
        "X_train, X_test, y_train, y_test = train_test_split(X,y, test_size=0.25,  shuffle=True)\n",
        "clf = RandomForestClassifier(n_estimators=100,\n",
        "    random_state=1337,\n",
        "    max_depth=14,\n",
        "    min_samples_leaf=1,\n",
        "    verbose=2)\n",
        "clf.fit(X_train, y_train)"
      ]
    },
    {
      "attachments": {},
      "cell_type": "markdown",
      "metadata": {
        "trusted": true
      },
      "source": [
        "Score trained model"
      ]
    },
    {
      "cell_type": "code",
      "execution_count": null,
      "metadata": {
        "trusted": true
      },
      "outputs": [],
      "source": [
        "_predictions = clf.predict(X_test)\n",
        "roc_auc_score(y_test, _predictions)"
      ]
    }
  ],
  "metadata": {
    "kernelspec": {
      "display_name": "Python 3",
      "language": "python",
      "name": "python3"
    },
    "language_info": {
      "codemirror_mode": {
        "name": "ipython",
        "version": 3
      },
      "file_extension": ".py",
      "mimetype": "text/x-python",
      "name": "python",
      "nbconvert_exporter": "python",
      "pygments_lexer": "ipython3",
      "version": "3.10.11"
    }
  },
  "nbformat": 4,
  "nbformat_minor": 4
}
